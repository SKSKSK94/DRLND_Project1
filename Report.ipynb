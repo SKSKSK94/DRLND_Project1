{
 "cells": [
  {
   "cell_type": "markdown",
   "metadata": {},
   "source": [
    "# Report\n",
    "\n",
    "---\n",
    "\n",
    "In this notebook, you can see an implementation for the first project of the [Deep Reinforcement Learning Nanodegree](https://www.udacity.com/course/deep-reinforcement-learning-nanodegree--nd893)."
   ]
  },
  {
   "cell_type": "markdown",
   "metadata": {},
   "source": [
    "## Implementation specs\n",
    "\n",
    "### 1. Summary\n",
    "\n",
    "I implement a [Deep Q-Network](https://www.cs.toronto.edu/~vmnih/docs/dqn.pdf)\n",
    "\n",
    "### 2. Details\n",
    "\n",
    "The agent keeps track of two DQNs: a local version, and a target version, one updated less often than the other.\n",
    "\n",
    "#### 2-1. Networks\n",
    "\n",
    "I used hidden_dim = [64, 64] as defalt list.\n",
    "\n",
    "The network structure is as follows:\n",
    "\n",
    "state -> Linear(state_size, hidden_dim[0]) -> leak_relu -> Linear(hidden_dim[0], hidden_dim[1]) -> leak_relu -> Linear(hidden_dim[1], action_size)\n",
    "\n",
    "#### 2-2. Hyperparameters\n",
    "\n",
    "Agent hyperparameters are passed as constructor arguments to `Agent`.  The default values, used in this project, are:\n",
    "\n",
    "| parameter    | value  | description                                                                   |\n",
    "|--------------|--------|-------------------------------------------------------------------------------|\n",
    "| buffer_size  | 100000 | Number of experiences to keep on the replay memory for the DQN                |\n",
    "| batch_size   | 64     | Minibatch size used at each learning step                                     |\n",
    "| gamma        | 0.99   | Discount applied to future rewards                                            |\n",
    "| tau          | 1e-3   | Scaling parameter applied to soft update                                      |\n",
    "| learn_rate   | 5e-4   | Learning rate used for the Adam optimizer                                     |\n",
    "| update_every | 4      | Number of agent steps between update operations                               |\n",
    "\n",
    "Training hyperparameters are passed to the training function `train` of `Agent`, defined below.  The default values are:\n",
    "\n",
    "| parameter                     | value            | description                                                             |\n",
    "|-------------------------------|------------------|-------------------------------------------------------------------------|\n",
    "| n_episodes                    | 1800             | Maximum number of training episodes                                     |\n",
    "| max_t                         | 1000             | Maximum number of steps per episode                                     |\n",
    "| eps_start, eps_end, eps_decay | (1, 0.01, 0.995) | Interpolation parameters for decaying epsilon on epsilon-greedy policy |"
   ]
  },
  {
   "cell_type": "markdown",
   "metadata": {},
   "source": [
    "## Execution"
   ]
  },
  {
   "cell_type": "markdown",
   "metadata": {},
   "source": [
    "Import required system packages:"
   ]
  },
  {
   "cell_type": "code",
   "execution_count": 1,
   "metadata": {},
   "outputs": [],
   "source": [
    "from unityagents import UnityEnvironment\n",
    "import numpy as np\n",
    "import torch\n",
    "from collections import deque\n",
    "import matplotlib.pyplot as plt\n",
    "%matplotlib inline"
   ]
  },
  {
   "cell_type": "markdown",
   "metadata": {},
   "source": [
    "Start the environment!  **_Before running the code cell below_**, change the `file_name` parameter to match the location of the Unity environment that you downloaded.\n",
    "\n",
    "- **Mac**: `\"path/to/Banana.app\"`\n",
    "- **Windows** (x86): `\"path/to/Banana_Windows_x86/Banana.exe\"`\n",
    "- **Windows** (x86_64): `\"path/to/Banana_Windows_x86_64/Banana.exe\"`\n",
    "- **Linux** (x86): `\"path/to/Banana_Linux/Banana.x86\"`\n",
    "- **Linux** (x86_64): `\"path/to/Banana_Linux/Banana.x86_64\"`\n",
    "- **Linux** (x86, headless): `\"path/to/Banana_Linux_NoVis/Banana.x86\"`\n",
    "- **Linux** (x86_64, headless): `\"path/to/Banana_Linux_NoVis/Banana.x86_64\"`\n",
    "\n",
    "For instance, if you are using a Mac, then you downloaded `Banana.app`.  If this file is in the same folder as the notebook, then the line below should appear as follows:\n",
    "```\n",
    "env = UnityEnvironment(file_name=\"Banana.app\")\n",
    "```"
   ]
  },
  {
   "cell_type": "code",
   "execution_count": 2,
   "metadata": {},
   "outputs": [
    {
     "name": "stderr",
     "output_type": "stream",
     "text": [
      "INFO:unityagents:\n",
      "'Academy' started successfully!\n",
      "Unity Academy name: Academy\n",
      "        Number of Brains: 1\n",
      "        Number of External Brains : 1\n",
      "        Lesson number : 0\n",
      "        Reset Parameters :\n",
      "\t\t\n",
      "Unity brain name: BananaBrain\n",
      "        Number of Visual Observations (per agent): 0\n",
      "        Vector Observation space type: continuous\n",
      "        Vector Observation space size (per agent): 37\n",
      "        Number of stacked Vector Observation: 1\n",
      "        Vector Action space type: discrete\n",
      "        Vector Action space size (per agent): 4\n",
      "        Vector Action descriptions: , , , \n"
     ]
    }
   ],
   "source": [
    "env = UnityEnvironment(file_name=\"Banana_Linux/Banana.x86\")"
   ]
  },
  {
   "cell_type": "markdown",
   "metadata": {},
   "source": [
    "Let's get the state and action dimensions, and initialize our agent:"
   ]
  },
  {
   "cell_type": "code",
   "execution_count": 3,
   "metadata": {},
   "outputs": [],
   "source": [
    "# get the default brain\n",
    "brain_name = env.brain_names[0]\n",
    "brain = env.brains[brain_name]\n",
    "\n",
    "# reset the environment\n",
    "env_info = env.reset(train_mode=True)[brain_name]"
   ]
  },
  {
   "cell_type": "code",
   "execution_count": 4,
   "metadata": {},
   "outputs": [
    {
     "name": "stdout",
     "output_type": "stream",
     "text": [
      "State size:  37\n",
      "Number of actions: 4\n"
     ]
    }
   ],
   "source": [
    "# state size\n",
    "state_size = len(env_info.vector_observations[0])\n",
    "print('State size: ', state_size)\n",
    "\n",
    "# number of actions\n",
    "action_size = brain.vector_action_space_size\n",
    "print('Number of actions:', action_size)"
   ]
  },
  {
   "cell_type": "code",
   "execution_count": 5,
   "metadata": {},
   "outputs": [],
   "source": [
    "# Initialize agent\n",
    "\n",
    "from dqn_agent import Agent\n",
    "\n",
    "agent = Agent(\n",
    "    state_size=state_size, \n",
    "    action_size=action_size,\n",
    "    seed=0\n",
    ")"
   ]
  },
  {
   "cell_type": "markdown",
   "metadata": {},
   "source": [
    "Here, I trained the agent to see how many episodes the agent need to solve the RL problem."
   ]
  },
  {
   "cell_type": "code",
   "execution_count": 6,
   "metadata": {},
   "outputs": [
    {
     "name": "stdout",
     "output_type": "stream",
     "text": [
      "Episode 100\tAverage Score: 0.09\n",
      "Episode 200\tAverage Score: 0.01\n",
      "Episode 300\tAverage Score: 0.07\n",
      "Episode 400\tAverage Score: 0.38\n",
      "Episode 500\tAverage Score: 1.45\n",
      "Episode 600\tAverage Score: 3.20\n",
      "Episode 700\tAverage Score: 5.34\n",
      "Episode 800\tAverage Score: 7.93\n",
      "Episode 900\tAverage Score: 5.02\n",
      "Episode 1000\tAverage Score: 7.12\n",
      "Episode 1100\tAverage Score: 10.33\n",
      "Episode 1200\tAverage Score: 9.92\n",
      "Episode 1300\tAverage Score: 10.29\n",
      "Episode 1400\tAverage Score: 10.88\n",
      "Episode 1500\tAverage Score: 13.65\n",
      "Episode 1600\tAverage Score: 15.67\n",
      "Episode 1700\tAverage Score: 16.64\n",
      "Episode 1800\tAverage Score: 15.81\n"
     ]
    }
   ],
   "source": [
    "scores = agent.train(env, n_episodes=1800, max_t=1000, eps_start=1.0, eps_end=0.01, eps_decay=0.995)\n",
    "# env.close()"
   ]
  },
  {
   "cell_type": "markdown",
   "metadata": {},
   "source": [
    "And let's see the score-epsiode plots of Vanilia DQN agent"
   ]
  },
  {
   "cell_type": "code",
   "execution_count": 7,
   "metadata": {},
   "outputs": [
    {
     "data": {
      "image/png": "[encoded data removed]",
      "text/plain": [
       "<Figure size 432x288 with 1 Axes>"
      ]
     },
     "metadata": {
      "needs_background": "light"
     },
     "output_type": "display_data"
    }
   ],
   "source": [
    "# plot the scores\n",
    "fig = plt.figure()\n",
    "ax = fig.add_subplot(111)\n",
    "plt.plot(np.arange(len(scores)), scores)\n",
    "plt.ylabel('Score')\n",
    "plt.xlabel('Episode #')\n",
    "plt.show()"
   ]
  },
  {
   "cell_type": "markdown",
   "metadata": {},
   "source": [
    "Here, I just load the already trained agent using `saved_DQN_agent.pth` to see the result.\n",
    "\n",
    "Finally, we can watch the solved agent:\n",
    "```\n",
    "if you want to see agent's action slowly to see the result of 100 consecutive rewards,\n",
    "then set mode = 'slow'\n",
    "else if fastly, mode = 'fast'\n",
    "I set the mode = 'fast' as default\n",
    "``` "
   ]
  },
  {
   "cell_type": "code",
   "execution_count": 8,
   "metadata": {},
   "outputs": [
    {
     "name": "stdout",
     "output_type": "stream",
     "text": [
      "====================================\n",
      "Sucessfully loaded from saved_DQN_agent.pth\n",
      "====================================\n",
      "Episode 100\tAverage Score: 16.65\n",
      "Final Score: 16.65\n"
     ]
    }
   ],
   "source": [
    "# env = UnityEnvironment(file_name=\"Banana_Linux/Banana.x86\")\n",
    "# get the default brain\n",
    "# brain_name = env.brain_names[0]\n",
    "mode = 'fast'\n",
    "agent.qnetwork_local.load_state_dict(torch.load('saved_DQN_agent.pth'))\n",
    "print('====================================')\n",
    "print('Sucessfully loaded from {}'.format('saved_DQN_agent.pth'))\n",
    "print('====================================')\n",
    "\n",
    "score_test = []                                  \n",
    "for test_episode in range(1, 100+1):\n",
    "    train_mode = True if mode == 'fast' else False\n",
    "    env_info = env.reset(train_mode=train_mode)[brain_name]      # reset the environment\n",
    "    state = env_info.vector_observations[0]                      # get the current state\n",
    "    score_temp = 0.                                              # initialize the score\n",
    "    while True:\n",
    "        action = agent.act(state, 0.)                            # select an action\n",
    "        env_info = env.step(action)[brain_name]                  # send the action to the environment\n",
    "        next_state = env_info.vector_observations[0]             # get the next state\n",
    "        reward = env_info.rewards[0]                             # get the reward\n",
    "        done = env_info.local_done[0]                            # see if episode has finished\n",
    "        score_temp += reward                                     # update the score\n",
    "        state = next_state                                       # roll over the state to next time step\n",
    "        if done:                                                 # exit loop if episode finished\n",
    "            score_test.append(score_temp)\n",
    "            print('\\rEpisode {}\\tAverage Score: {:.2f}'.format(test_episode, np.mean(score_test)), end=\"\")\n",
    "            score_temp = 0.\n",
    "            break\n",
    "    \n",
    "print(\"\\nFinal Score: {}\".format(np.mean(score_test)))\n",
    "# env.close()"
   ]
  },
  {
   "cell_type": "markdown",
   "metadata": {},
   "source": [
    "I also implement the `Double Deep Q-learning with Prioritized Experience Replay(PER)` to compare the result with `Vanila DQN` \n",
    "\n",
    "### Double DQNs\n",
    "\n",
    "On the update operation, rather than just using the target network to both select the best action and compute its estimated value, we use the local network to pick an action, and then use the target network to compute its estimated value as below:\n",
    "\n",
    "$$ Q_{target} = R + γ*Q_{network}(s', argmax_a \\ {Q_{local}(s', a))} $$\n",
    "\n",
    "### Prioritized Experience Replay\n",
    "\n",
    "Rather than just keeping a buffer of experiences (s, a, r, s', d) with uniform sampling probability, each experience has a priority $p_i$, based on the TD error between the estimated Q value and the current Q value for that experience when last evaluated. Using this, each experience has a Importance Sampling(IS) weight $w_i$ as below:\n",
    "\n",
    "$$ w_i = \\left(\\frac{1}{N} \\frac{1}{P_i}\\right)^{\\beta} $$ \n",
    "\n",
    "For stability, I normalize the Importance Sampling(IS) weight $w_i$ by $1/max_i \\ {w_i}$\n",
    "\n",
    "I do annealing on $\\beta$ as linearly from `BETA_INIT=0.4` to `BETA_MAX=1.0` with a step `BETA_INCREASE=0.005`.\n",
    "\n",
    "Training result is as follows.\n"
   ]
  },
  {
   "cell_type": "code",
   "execution_count": 9,
   "metadata": {},
   "outputs": [
    {
     "name": "stdout",
     "output_type": "stream",
     "text": [
      "Episode 100\tAverage Score: 0.25\n",
      "Episode 200\tAverage Score: 2.98\n",
      "Episode 300\tAverage Score: 6.44\n",
      "Episode 400\tAverage Score: 9.47\n",
      "Episode 500\tAverage Score: 14.04\n",
      "Episode 600\tAverage Score: 15.48\n",
      "Episode 633\tAverage Score: 16.00\n",
      "Environment solved in 533 episodes!\tAverage Score: 16.00\n"
     ]
    }
   ],
   "source": [
    "from ddqn_with_per_agent import Agent\n",
    "\n",
    "agent = Agent(\n",
    "    state_size=state_size, \n",
    "    action_size=action_size,\n",
    "    seed=0\n",
    ")\n",
    "\n",
    "scores_DDQN_PER = agent.train(env, n_episodes=1800, max_t=1000, eps_start=1.0, eps_end=0.01, eps_decay=0.995)"
   ]
  },
  {
   "cell_type": "markdown",
   "metadata": {},
   "source": [
    "And let's see the score-epsiode plots of Double DQN with PER agent"
   ]
  },
  {
   "cell_type": "code",
   "execution_count": 11,
   "metadata": {},
   "outputs": [
    {
     "data": {
      "image/png": "[encoded data removed]",
      "text/plain": [
       "<Figure size 432x288 with 1 Axes>"
      ]
     },
     "metadata": {
      "needs_background": "light"
     },
     "output_type": "display_data"
    }
   ],
   "source": [
    "# plot the scores\n",
    "fig = plt.figure()\n",
    "ax = fig.add_subplot(111)\n",
    "plt.plot(np.arange(len(scores_DDQN_PER)), scores_DDQN_PER)\n",
    "plt.ylabel('Score')\n",
    "plt.xlabel('Episode #')\n",
    "plt.show()"
   ]
  },
  {
   "cell_type": "markdown",
   "metadata": {},
   "source": [
    "You can see that `DDQN_PER_agent` has finished problem in about 600 episodes but `Vainla_DQN_agent` in about 1700 episodes."
   ]
  },
  {
   "cell_type": "markdown",
   "metadata": {},
   "source": [
    "When done, close the environment:"
   ]
  },
  {
   "cell_type": "code",
   "execution_count": 12,
   "metadata": {},
   "outputs": [],
   "source": [
    "env.close()"
   ]
  },
  {
   "cell_type": "markdown",
   "metadata": {},
   "source": [
    "## Ideas for future work\n",
    "* Implement remaining extensions on Rainbow DQN for this toy example.\n",
    "* Perform a larger hyperparameter search, including hyper parameter annealing.\n",
    "* Review literature for more recent DQN extensions."
   ]
  }
 ],
 "metadata": {
  "interpreter": {
   "hash": "8aa21d8e399a37b974f6d754de1d8fefcaaacdbffcc67fbf1b64b27b22a1feb9"
  },
  "kernelspec": {
   "display_name": "Python 3.6.2 64-bit ('py36': pyenv)",
   "name": "python3"
  },
  "language_info": {
   "codemirror_mode": {
    "name": "ipython",
    "version": 3
   },
   "file_extension": ".py",
   "mimetype": "text/x-python",
   "name": "python",
   "nbconvert_exporter": "python",
   "pygments_lexer": "ipython3",
   "version": "3.6.2"
  }
 },
 "nbformat": 4,
 "nbformat_minor": 2
}